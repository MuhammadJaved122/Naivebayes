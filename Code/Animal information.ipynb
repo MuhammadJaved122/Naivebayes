{
 "cells": [
  {
   "cell_type": "code",
   "execution_count": 2,
   "id": "c0157945-3900-40af-b9fa-d0cea994b83b",
   "metadata": {},
   "outputs": [],
   "source": [
    "# Import libraries\n",
    "import pandas as pd\n"
   ]
  },
  {
   "cell_type": "code",
   "execution_count": 3,
   "id": "a9656152-43c4-49f9-a826-a3a2a7cd0f2b",
   "metadata": {},
   "outputs": [
    {
     "name": "stdout",
     "output_type": "stream",
     "text": [
      "    Index Animals Size of Animal Body Color Can we Pet them\n",
      "0       0     Dog         Medium      Black             Yes\n",
      "1       1     Dog            Big      White              No\n",
      "2       2     Rat          Small      White             Yes\n",
      "3       3     Cow            Big      White             Yes\n",
      "4       4     Cow          Small      Brown              No\n",
      "5       5     Cow            Big      Black             Yes\n",
      "6       6     Rat            Big      Brown              No\n",
      "7       7     Dog          Small      Brown             Yes\n",
      "8       8     Dog         Medium      Brown             Yes\n",
      "9       9     Cow         Medium      White              No\n",
      "10     10     Dog          Small      Black             Yes\n",
      "11     11     Rat         Medium      Black              No\n",
      "12     12     Rat          Small      Brown              No\n",
      "13     13     Cow            Big      White             Yes\n"
     ]
    }
   ],
   "source": [
    "\n",
    "# Load dataset\n",
    "data = pd.read_csv('C:/Users/PMLS/Downloads/Naivebayes-main/Naivebayes-main/Dataset/AnimalInformation.csv')\n",
    "print(data)\n",
    "\n"
   ]
  },
  {
   "cell_type": "code",
   "execution_count": 4,
   "id": "f986f54b-6a03-461f-bc7b-3f19b4fff8bb",
   "metadata": {},
   "outputs": [],
   "source": [
    "\n",
    "# Rename columns\n",
    "data.columns = ['Index', 'Animal', 'Size', 'Color', 'Pettable']\n"
   ]
  },
  {
   "cell_type": "code",
   "execution_count": 5,
   "id": "cb22307f",
   "metadata": {},
   "outputs": [],
   "source": [
    "\n",
    "# Calculate prior probabilities\n",
    "Pyes = len(data[data['Pettable'] == 'Yes']) / len(data)\n",
    "Pno = len(data[data['Pettable'] == 'No']) / len(data)\n"
   ]
  },
  {
   "cell_type": "code",
   "execution_count": 6,
   "id": "6005bf74",
   "metadata": {},
   "outputs": [],
   "source": [
    "\n",
    "# Calculate conditional probabilities for Size\n",
    "PmediumYes = len(data[(data['Size'] == 'Medium') & (data['Pettable'] == 'Yes')]) / len(data[data['Pettable'] == 'Yes'])\n",
    "PmediumNo = len(data[(data['Size'] == 'Medium') & (data['Pettable'] == 'No')]) / len(data[data['Pettable'] == 'No'])\n",
    "\n",
    "PsmallYes = len(data[(data['Size'] == 'Small') & (data['Pettable'] == 'Yes')]) / len(data[data['Pettable'] == 'Yes'])\n",
    "PsmallNo = len(data[(data['Size'] == 'Small') & (data['Pettable'] == 'No')]) / len(data[data['Pettable'] == 'No'])\n",
    "\n",
    "PbigYes = len(data[(data['Size'] == 'Big') & (data['Pettable'] == 'Yes')]) / len(data[data['Pettable'] == 'Yes'])\n",
    "PbigNo = len(data[(data['Size'] == 'Big') & (data['Pettable'] == 'No')]) / len(data[data['Pettable'] == 'No'])\n"
   ]
  },
  {
   "cell_type": "code",
   "execution_count": 7,
   "id": "e9d62fb1",
   "metadata": {},
   "outputs": [],
   "source": [
    "\n",
    "# Calculate conditional probabilities for Color\n",
    "PbrownYes = len(data[(data['Color'] == 'Brown') & (data['Pettable'] == 'Yes')]) / len(data[data['Pettable'] == 'Yes'])\n",
    "PbrownNo = len(data[(data['Color'] == 'Brown') & (data['Pettable'] == 'No')]) / len(data[data['Pettable'] == 'No'])\n",
    "\n",
    "PblackYes = len(data[(data['Color'] == 'Black') & (data['Pettable'] == 'Yes')]) / len(data[data['Pettable'] == 'Yes'])\n",
    "PblackNo = len(data[(data['Color'] == 'Black') & (data['Pettable'] == 'No')]) / len(data[data['Pettable'] == 'No'])\n",
    "\n",
    "PwhiteYes = len(data[(data['Color'] == 'White') & (data['Pettable'] == 'Yes')]) / len(data[data['Pettable'] == 'Yes'])\n",
    "PwhiteNo = len(data[(data['Color'] == 'White') & (data['Pettable'] == 'No')]) / len(data[data['Pettable'] == 'No'])\n"
   ]
  },
  {
   "cell_type": "code",
   "execution_count": 8,
   "id": "53d2e45c",
   "metadata": {},
   "outputs": [
    {
     "name": "stdout",
     "output_type": "stream",
     "text": [
      "Probability of Yes: 0.03571428571428571\n",
      "Probability of No: 0.07142857142857142\n"
     ]
    }
   ],
   "source": [
    "\n",
    "# Test Case: Medium Size, Brown Color\n",
    "Prob_yes = PmediumYes * PbrownYes * Pyes\n",
    "Prob_no = PmediumNo * PbrownNo * Pno\n",
    "\n",
    "print(\"Probability of Yes:\", Prob_yes)\n",
    "print(\"Probability of No:\", Prob_no)\n"
   ]
  },
  {
   "cell_type": "code",
   "execution_count": 9,
   "id": "f5a9f533",
   "metadata": {},
   "outputs": [
    {
     "name": "stdout",
     "output_type": "stream",
     "text": [
      "Prediction: Cannot be petted\n"
     ]
    }
   ],
   "source": [
    "\n",
    "# Prediction\n",
    "if Prob_yes > Prob_no:\n",
    "    print(\"Prediction: Can be petted\")\n",
    "else:\n",
    "    print(\"Prediction: Cannot be petted\")"
   ]
  }
 ],
 "metadata": {
  "kernelspec": {
   "display_name": "base",
   "language": "python",
   "name": "python3"
  },
  "language_info": {
   "codemirror_mode": {
    "name": "ipython",
    "version": 3
   },
   "file_extension": ".py",
   "mimetype": "text/x-python",
   "name": "python",
   "nbconvert_exporter": "python",
   "pygments_lexer": "ipython3",
   "version": "3.12.4"
  }
 },
 "nbformat": 4,
 "nbformat_minor": 5
}
