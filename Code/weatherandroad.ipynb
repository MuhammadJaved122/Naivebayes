{
 "cells": [
  {
   "cell_type": "code",
   "execution_count": 1,
   "id": "be7fd1bd-0819-48cc-a654-c4613460c5b9",
   "metadata": {},
   "outputs": [
    {
     "name": "stdout",
     "output_type": "stream",
     "text": [
      "Probability of Yes 0.02222222222222222\n",
      "Probability of no 0.048979591836734684\n",
      "Prediction: Accident Not Likely\n"
     ]
    }
   ],
   "source": [
    "# Import libraries\n",
    "import pandas as pd\n",
    "\n",
    "# Load dataset\n",
    "\n",
    "data = pd.read_csv('C:/Users/PMLS/Desktop/nlp data/weatherAndRoadCondition.csv')\n",
    "\n",
    "# Rename columns\n",
    "data.columns = ['Index', 'Weather', 'Road', 'Traffic', 'Engine', 'Accident']\n",
    "\n",
    "# Prior probabilities\n",
    "Pyes = 3 / 10\n",
    "Pno = 7 / 10\n",
    "\n",
    "# Probabilities for Weather\n",
    "PrainYes = 1 / 3\n",
    "PrainNo = 2 / 7\n",
    "PsnowYes = 1 / 3\n",
    "PsnowNo = 2 / 7\n",
    "PclearYes = 1 / 3\n",
    "PclearNo = 3 / 7\n",
    "\n",
    "# Probabilities for Road\n",
    "PgoodYes = 1 / 3\n",
    "PgoodNo = 3 / 7\n",
    "PbadYes = 1 / 3\n",
    "PbadNo = 3 / 7\n",
    "\n",
    "# Probabilities for Traffic\n",
    "PlightYes = 2 / 3\n",
    "PlightNo = 4 / 7\n",
    "PnormalYes = 1 / 3\n",
    "PnormalNo = 2 / 7\n",
    "\n",
    "# Test Case: Rain, Good Road, Light Traffic, No Engine Problem\n",
    "Prob_yes = PrainYes * PgoodYes * PlightYes * Pyes\n",
    "Prob_no = PrainNo * PgoodNo * PlightNo * Pno\n",
    "\n",
    "print(\"Probability of Yes\",Prob_yes)\n",
    "print(\"Probability of no\",Prob_no)\n",
    "\n",
    "# Prediction\n",
    "if Prob_yes > Prob_no:\n",
    "    print(\"Prediction: Accident Likely\")\n",
    "else:\n",
    "    print(\"Prediction: Accident Not Likely\")"
   ]
  },
  {
   "cell_type": "code",
   "execution_count": null,
   "id": "42152eb3-4852-4ffe-85f6-c35268a807c1",
   "metadata": {},
   "outputs": [],
   "source": []
  }
 ],
 "metadata": {
  "kernelspec": {
   "display_name": "Python 3 (ipykernel)",
   "language": "python",
   "name": "python3"
  },
  "language_info": {
   "codemirror_mode": {
    "name": "ipython",
    "version": 3
   },
   "file_extension": ".py",
   "mimetype": "text/x-python",
   "name": "python",
   "nbconvert_exporter": "python",
   "pygments_lexer": "ipython3",
   "version": "3.12.4"
  }
 },
 "nbformat": 4,
 "nbformat_minor": 5
}
