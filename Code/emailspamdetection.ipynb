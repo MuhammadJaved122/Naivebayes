{
 "cells": [
  {
   "cell_type": "code",
   "execution_count": 2,
   "id": "800de884-273b-445b-8a88-fdd25dcfa843",
   "metadata": {},
   "outputs": [
    {
     "name": "stdout",
     "output_type": "stream",
     "text": [
      "Probability of Yes 0.12\n",
      "Probability of Yes 0.12\n",
      "Prediction: Not Spam\n"
     ]
    }
   ],
   "source": [
    "# Import libraries\n",
    "import pandas as pd\n",
    "\n",
    "# Load dataset\n",
    "data = pd.read_csv('C:/Users/PMLS/Desktop/nlp data/EmailSpamDetectionUpdated.csv')\n",
    "\n",
    "# Rename columns\n",
    "data.columns = ['ID', 'Offer', 'Link', 'Greeting', 'Known', 'Spam']\n",
    "\n",
    "# Prior probabilities\n",
    "Pyes = 5 / 10\n",
    "Pno = 5 / 10\n",
    "\n",
    "# Probabilities for Offer\n",
    "PofferYes = 3 / 5\n",
    "PofferNo = 2 / 5\n",
    "\n",
    "# Probabilities for Link\n",
    "PnoLinkYes = 2 / 5\n",
    "PnoLinkNo = 3 / 5\n",
    "\n",
    "# Test Case: Contains Offer, No Link, Contains Greeting, Not Known Sender\n",
    "Prob_yes = PofferYes * PnoLinkYes * Pyes\n",
    "Prob_no = PofferNo * PnoLinkNo * Pno\n",
    "\n",
    "print(\"Probability of Yes\",Prob_yes)\n",
    "print(\"Probability of Yes\",Prob_no)\n",
    "\n",
    "# Prediction\n",
    "if Prob_yes > Prob_no:\n",
    "    print(\"Prediction: Spam\")\n",
    "else:\n",
    "    print(\"Prediction: Not Spam\")"
   ]
  },
  {
   "cell_type": "code",
   "execution_count": null,
   "id": "e72a5884-23dd-481d-a75d-0afb6e349cec",
   "metadata": {},
   "outputs": [],
   "source": []
  }
 ],
 "metadata": {
  "kernelspec": {
   "display_name": "Python 3 (ipykernel)",
   "language": "python",
   "name": "python3"
  },
  "language_info": {
   "codemirror_mode": {
    "name": "ipython",
    "version": 3
   },
   "file_extension": ".py",
   "mimetype": "text/x-python",
   "name": "python",
   "nbconvert_exporter": "python",
   "pygments_lexer": "ipython3",
   "version": "3.12.4"
  }
 },
 "nbformat": 4,
 "nbformat_minor": 5
}
