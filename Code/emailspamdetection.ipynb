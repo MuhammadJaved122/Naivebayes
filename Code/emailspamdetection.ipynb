{
 "cells": [
  {
   "cell_type": "code",
   "execution_count": 2,
   "id": "800de884-273b-445b-8a88-fdd25dcfa843",
   "metadata": {},
   "outputs": [],
   "source": [
    "# Import libraries\n",
    "import pandas as pd\n"
   ]
  },
  {
   "cell_type": "code",
   "execution_count": 3,
   "id": "22cbf429",
   "metadata": {},
   "outputs": [
    {
     "name": "stdout",
     "output_type": "stream",
     "text": [
      "   Email\\nID Contains\\nOffer Contains\\nLink Contains\\nGreeting Sender\\nKnown  \\\n",
      "0        101             Yes            Yes                Yes            No   \n",
      "1        102              No             No                Yes           Yes   \n",
      "2        103             Yes            Yes                 No            No   \n",
      "3        104              No            Yes                Yes           Yes   \n",
      "4        105             Yes             No                 No            No   \n",
      "5        106              No             No                Yes            No   \n",
      "6        107             Yes            Yes                Yes           Yes   \n",
      "7        108              No            Yes                 No            No   \n",
      "8        109             Yes             No                Yes           Yes   \n",
      "9        110              No             No                 No            No   \n",
      "\n",
      "  Spam  \n",
      "0  Yes  \n",
      "1   No  \n",
      "2  Yes  \n",
      "3   No  \n",
      "4  Yes  \n",
      "5   No  \n",
      "6   No  \n",
      "7  Yes  \n",
      "8   No  \n",
      "9  Yes  \n"
     ]
    }
   ],
   "source": [
    "# Load dataset\n",
    "data = pd.read_csv('C:/Users/PMLS/Downloads/Naivebayes-main/Naivebayes-main/Dataset/EmailSpamDetectionUpdated.csv')\n",
    "print(data)"
   ]
  },
  {
   "cell_type": "code",
   "execution_count": 4,
   "id": "685ac2d3",
   "metadata": {},
   "outputs": [],
   "source": [
    "# Rename columns\n",
    "data.columns = ['ID', 'Offer', 'Link', 'Greeting', 'Known', 'Spam']"
   ]
  },
  {
   "cell_type": "code",
   "execution_count": 5,
   "id": "35b9c7f5",
   "metadata": {},
   "outputs": [],
   "source": [
    "\n",
    "# Prior probabilities\n",
    "Pyes = 5 / 10\n",
    "Pno = 5 / 10\n"
   ]
  },
  {
   "cell_type": "code",
   "execution_count": 6,
   "id": "ccdcf188",
   "metadata": {},
   "outputs": [],
   "source": [
    "\n",
    "# Probabilities for Offer\n",
    "PofferYes = 3 / 5\n",
    "PofferNo = 2 / 5\n"
   ]
  },
  {
   "cell_type": "code",
   "execution_count": 7,
   "id": "27b5f315",
   "metadata": {},
   "outputs": [],
   "source": [
    "\n",
    "# Probabilities for Link\n",
    "PnoLinkYes = 2 / 5\n",
    "PnoLinkNo = 3 / 5\n"
   ]
  },
  {
   "cell_type": "code",
   "execution_count": 8,
   "id": "fdb7510e",
   "metadata": {},
   "outputs": [
    {
     "name": "stdout",
     "output_type": "stream",
     "text": [
      "Probability of Yes 0.12\n",
      "Probability of Yes 0.12\n"
     ]
    }
   ],
   "source": [
    "\n",
    "# Test Case: Contains Offer, No Link, Contains Greeting, Not Known Sender\n",
    "Prob_yes = PofferYes * PnoLinkYes * Pyes\n",
    "Prob_no = PofferNo * PnoLinkNo * Pno\n",
    "\n",
    "print(\"Probability of Yes\",Prob_yes)\n",
    "print(\"Probability of Yes\",Prob_no)\n"
   ]
  },
  {
   "cell_type": "code",
   "execution_count": 9,
   "id": "29974f7d",
   "metadata": {},
   "outputs": [
    {
     "name": "stdout",
     "output_type": "stream",
     "text": [
      "Prediction: Not Spam\n"
     ]
    }
   ],
   "source": [
    "\n",
    "# Prediction\n",
    "if Prob_yes > Prob_no:\n",
    "    print(\"Prediction: Spam\")\n",
    "else:\n",
    "    print(\"Prediction: Not Spam\")"
   ]
  }
 ],
 "metadata": {
  "kernelspec": {
   "display_name": "base",
   "language": "python",
   "name": "python3"
  },
  "language_info": {
   "codemirror_mode": {
    "name": "ipython",
    "version": 3
   },
   "file_extension": ".py",
   "mimetype": "text/x-python",
   "name": "python",
   "nbconvert_exporter": "python",
   "pygments_lexer": "ipython3",
   "version": "3.12.4"
  }
 },
 "nbformat": 4,
 "nbformat_minor": 5
}
