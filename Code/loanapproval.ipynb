{
 "cells": [
  {
   "cell_type": "code",
   "execution_count": 2,
   "id": "6b87ff26-9b82-4330-af64-68529f5c31fd",
   "metadata": {},
   "outputs": [],
   "source": [
    "# Import libraries\n",
    "import pandas as pd\n"
   ]
  },
  {
   "cell_type": "code",
   "execution_count": 3,
   "id": "278178f6-335c-4a02-bd15-e112f67dbfd8",
   "metadata": {},
   "outputs": [
    {
     "name": "stdout",
     "output_type": "stream",
     "text": [
      "   I\\nD Age\\nGroup Income\\nLevel Credit\\nScore Employment\\nStatus  \\\n",
      "0     1      Young          High          Good           Employed   \n",
      "1     2     Middle           Low          Poor         Unemployed   \n",
      "2     3     Senior          High     Excellent            Retired   \n",
      "3     4      Young           Low          Good           Employed   \n",
      "4     5     Middle          High          Poor           Employed   \n",
      "5     6     Senior           Low     Excellent            Retired   \n",
      "6     7      Young          High          Poor           Employed   \n",
      "7     8     Middle          High     Excellent           Employed   \n",
      "8     9     Senior           Low          Good            Retired   \n",
      "9  1\\n0      Young           Low     Excellent           Employed   \n",
      "\n",
      "  Loan\\nApproved  \n",
      "0            Yes  \n",
      "1             No  \n",
      "2            Yes  \n",
      "3             No  \n",
      "4            Yes  \n",
      "5             No  \n",
      "6             No  \n",
      "7            Yes  \n",
      "8             No  \n",
      "9            Yes  \n"
     ]
    }
   ],
   "source": [
    "\n",
    "# Load dataset\n",
    "data = pd.read_csv('C:/Users/PMLS/Downloads/Naivebayes-main/Naivebayes-main/Dataset/LoanApprovalupdated.csv')\n",
    "print(data)\n"
   ]
  },
  {
   "cell_type": "code",
   "execution_count": 4,
   "id": "075728b1",
   "metadata": {},
   "outputs": [],
   "source": [
    "# Rename columns for better access\n",
    "data.columns = ['ID', 'AgeGroup', 'IncomeLevel', 'CreditScore', 'EmploymentStatus', 'LoanApproved']\n"
   ]
  },
  {
   "cell_type": "code",
   "execution_count": 5,
   "id": "bf5dfcb2",
   "metadata": {},
   "outputs": [],
   "source": [
    "\n",
    "# Calculate the prior probabilities of LoanApproved (Yes/No)\n",
    "Pyes = 5 / 10  # 5 Yes out of 10 records\n",
    "Pno = 5 / 10   # 5 No out of 10 records\n",
    "\n"
   ]
  },
  {
   "cell_type": "code",
   "execution_count": 6,
   "id": "46e4312c",
   "metadata": {},
   "outputs": [],
   "source": [
    "\n",
    "# Calculate probabilities for AgeGroup\n",
    "PyoungYes = 2 / 5\n",
    "PyoungNo = 2 / 5\n",
    "PmiddleYes = 2 / 5\n",
    "PmiddleNo = 1 / 5\n",
    "PseniorYes = 1 / 5\n",
    "PseniorNo = 2 / 5\n"
   ]
  },
  {
   "cell_type": "code",
   "execution_count": 7,
   "id": "686b5717",
   "metadata": {},
   "outputs": [],
   "source": [
    "\n",
    "# Calculate probabilities for IncomeLevel\n",
    "PhighYes = 3 / 5\n",
    "PhighNo = 2 / 5\n",
    "PlowYes = 2 / 5\n",
    "PlowNo = 3 / 5\n"
   ]
  },
  {
   "cell_type": "code",
   "execution_count": 8,
   "id": "297d7895",
   "metadata": {},
   "outputs": [],
   "source": [
    "\n",
    "# Calculate probabilities for CreditScore\n",
    "PgoodYes = 2 / 5\n",
    "PgoodNo = 2 / 5\n",
    "PpoorYes = 1 / 5\n",
    "PpoorNo = 2 / 5\n",
    "PexcellentYes = 2 / 5\n",
    "PexcellentNo = 1 / 5\n"
   ]
  },
  {
   "cell_type": "code",
   "execution_count": 9,
   "id": "52401c66",
   "metadata": {},
   "outputs": [],
   "source": [
    "\n",
    "# Calculate probabilities for EmploymentStatus\n",
    "PemployedYes = 3 / 5\n",
    "PemployedNo = 1 / 5\n",
    "PunemployedYes = 0 / 5\n",
    "PunemployedNo = 1 / 5\n",
    "PretiredYes = 2 / 5\n",
    "PretiredNo = 3 / 5\n"
   ]
  },
  {
   "cell_type": "code",
   "execution_count": 10,
   "id": "1e9b9c28",
   "metadata": {},
   "outputs": [],
   "source": [
    "\n",
    "# Test case: Middle-aged person with High income, Good credit score, and Employed status\n",
    "Pmiddle_given_yes = PmiddleYes\n",
    "Pmiddle_given_no = PmiddleNo\n",
    "Phigh_given_yes = PhighYes\n",
    "Phigh_given_no = PhighNo\n",
    "Pgood_given_yes = PgoodYes\n",
    "Pgood_given_no = PgoodNo\n",
    "Pemployed_given_yes = PemployedYes\n",
    "Pemployed_given_no = PemployedNo\n"
   ]
  },
  {
   "cell_type": "code",
   "execution_count": 11,
   "id": "33c38a98",
   "metadata": {},
   "outputs": [
    {
     "name": "stdout",
     "output_type": "stream",
     "text": [
      "\n",
      "\n",
      "\n",
      "\n",
      "Probability of Yes 0.0288\n",
      "Probability of Yes 0.003200000000000001\n"
     ]
    }
   ],
   "source": [
    "\n",
    "# Calculate final probabilities for Yes and No\n",
    "Prob_yes = Pmiddle_given_yes * Phigh_given_yes * Pgood_given_yes * Pemployed_given_yes * Pyes\n",
    "Prob_no = Pmiddle_given_no * Phigh_given_no * Pgood_given_no * Pemployed_given_no * Pno\n",
    "\n",
    "print('\\n\\n\\n')\n",
    "print(\"Probability of Yes\",Prob_yes)\n",
    "print(\"Probability of Yes\",Prob_no)\n"
   ]
  },
  {
   "cell_type": "code",
   "execution_count": 12,
   "id": "a7329366",
   "metadata": {},
   "outputs": [
    {
     "name": "stdout",
     "output_type": "stream",
     "text": [
      "Prediction: Loan Approved\n"
     ]
    }
   ],
   "source": [
    "\n",
    "# Prediction\n",
    "if Prob_yes > Prob_no:\n",
    "    print(\"Prediction: Loan Approved\")\n",
    "else:\n",
    "    print(\"Prediction: Loan Not Approved\")"
   ]
  },
  {
   "cell_type": "code",
   "execution_count": null,
   "id": "e2cb8919",
   "metadata": {},
   "outputs": [],
   "source": []
  }
 ],
 "metadata": {
  "kernelspec": {
   "display_name": "base",
   "language": "python",
   "name": "python3"
  },
  "language_info": {
   "codemirror_mode": {
    "name": "ipython",
    "version": 3
   },
   "file_extension": ".py",
   "mimetype": "text/x-python",
   "name": "python",
   "nbconvert_exporter": "python",
   "pygments_lexer": "ipython3",
   "version": "3.12.4"
  }
 },
 "nbformat": 4,
 "nbformat_minor": 5
}
